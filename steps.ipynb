{
 "cells": [
  {
   "cell_type": "code",
   "execution_count": null,
   "id": "8a057ca7",
   "metadata": {},
   "outputs": [],
   "source": [
    "import json\n",
    "\n",
    "import pandas as pd\n",
    "from modules.utils import cleaning_json_files"
   ]
  },
  {
   "cell_type": "markdown",
   "id": "2828074d",
   "metadata": {},
   "source": [
    "### Cleaning JSON Files"
   ]
  },
  {
   "cell_type": "code",
   "execution_count": null,
   "id": "89d7b55e",
   "metadata": {},
   "outputs": [],
   "source": [
    "# Cleaning json files\n",
    "data_folder = \"./data/extracted/\"\n",
    "\n",
    "shops = cleaning_json_files(data_folder=data_folder)\n",
    "\n",
    "with open('./data/shops.json', 'w') as json_file:\n",
    "    json.dump(shops, json_file, indent=4)"
   ]
  },
  {
   "cell_type": "code",
   "execution_count": null,
   "id": "ab82be2e",
   "metadata": {},
   "outputs": [],
   "source": [
    "df = pd.read_json('./data/shops.json')\n",
    "df.head(5)"
   ]
  },
  {
   "cell_type": "markdown",
   "id": "23dfefb9",
   "metadata": {},
   "source": [
    "### Vector Embeddings"
   ]
  },
  {
   "cell_type": "code",
   "execution_count": null,
   "id": "462a12de",
   "metadata": {},
   "outputs": [],
   "source": [
    "from modules.utils import push_to_chroma\n",
    "\n",
    "push_to_chroma(data_path='./data/shops.json')"
   ]
  },
  {
   "cell_type": "code",
   "execution_count": 1,
   "id": "5a94dc31",
   "metadata": {},
   "outputs": [
    {
     "name": "stdout",
     "output_type": "stream",
     "text": [
      "\n",
      "        Title: Putien\n",
      "        Venue: LG1.43A\n",
      "        Categories: Food & Beverages\n",
      "        Subcategories: Chinese, Kid-Friendly Food\n",
      "        Keywords: beverages, chinese food asian yee sang, cny set meal reunion dinner, food & beverages, kid-friendly food, poon choi, putien\n",
      "        Description: Retailing of food and beverages\n",
      "        \n",
      "\n",
      "\n",
      "        Title: Esquire Kitchen\n",
      "        Venue: G1.42A\n",
      "        Categories: Food & Beverages\n",
      "        Subcategories: Chinese, Local\n",
      "        Keywords: asian, beverages, chinese cuisine, chinese food, cny dinner set reunion #niuyeardinner, esquire kitchen, family food, food & beverages, frozen chinese food & wedding biscuit, kitchen, local, noodles, pastries, pastry, rice, shanghai food, szechuan food, yee sang\n",
      "        Description: to use the existing brand description\n",
      "        \n",
      "\n",
      "\n",
      "        Title: GRAND IMPERIAL RESTAURANT\n",
      "        Venue: Suite 101, First Floor, The Pinnacle Annex\n",
      "        Categories: Food & Beverages\n",
      "        Subcategories: Chinese\n",
      "        Keywords: beverages, chinese restaurant, food & beverages, grand imperial restaurant, imperial, oriental, restaurant\n",
      "        Description: Established since 2008, we are Malaysia’s leading company in the food & beverage industry and wedding services. We showcase a fleet of outstanding restaurants offering various culinary experiences, from Chinese delicacies to Chinese Dim Sum, BBQ, Seafood Steamboat, Hong Kong noodles, and tangy fresh seafood.\n",
      "Also, Grand Imperial Restaurant Royale Ballroom Sunway is definitely the perfect location for an intimate wedding without compromising on perfect settings with luxurious detailing. \n",
      "Step into the finest ballroom, designed to cater your guests with utmost importance. Featuring high ceiling, warm lighting and many more From the floor to the smallest interior details it is a revitalized piece of living celebration. No doubt, your wedding ceremony will be a memorable one.\n",
      "        \n",
      "\n",
      "\n",
      "        Title: Din Tai Fung\n",
      "        Venue: G1.41, G1.PT01\n",
      "        Categories: Food & Beverages\n",
      "        Subcategories: Chinese, Kid-Friendly Food\n",
      "        Keywords: asian restaurant yee sang, beverages, chinese, cny dinner set reunion, din tai fung, food & beverages, fung, kid-friendly food, kid-friendly yee sang #niuyeardinner, tai\n",
      "        Description: Din Tai Fung was originally founded as a cooking oil retail shop in 1958. As the consumption patterns of cooking oil started to change in the early 1970’s threatening the survival of the business, Din Tai Fung was transformed to a restaurant in 1972 serving Xiao Long Bao (Steamed Dumpling). \n",
      "\n",
      "The Hong Kong branch was awarded one star by the prestigious Michelin guide, Din Tai Fung is also ranked as one of the World’s Top Ten Best Restaurants by The New York Times and is the only Asian restaurant on the list. Additionally, it was voted the Second Best Franchise for Travellers by CNN and ranked sixth in the list of “101 Best restaurants in Asia” released by US-based food website, The Daily Meal. Locally, the Pavilion branch has been voted as the top Chinese restaurant in Kuala Lumpur by TripAdvisor and as one of the top rated Chinese Restaurants in the Chinese “Dazhong Dianping”. Din Tai Fung Malaysia was most recently awarded the Innovative Restaurant Award at the prestigious Malaysia Tourism Awards 2014/2015 and Best Chinese Restaurant at the Time Out Food & Drink Awards 2017.  \n",
      "\n",
      "Headquartered in Taiwan, Din Tai Fung now has more than 170 branches in Australia, China, Dubai, Hong Kong, Indonesia, Japan, Malaysia, Philippines, Singapore, South Korea, Thailand, UK and United States. Din Tai Fung is inviting the world to this exquisite cuisine from Taiwan.\n",
      "        \n",
      "\n"
     ]
    }
   ],
   "source": [
    "from modules.tools import find_similar_shops\n",
    "\n",
    "shops = find_similar_shops('give me good chinese restraunts')\n",
    "\n",
    "for shop in shops:\n",
    "    print(shop)\n",
    "    print()"
   ]
  }
 ],
 "metadata": {
  "kernelspec": {
   "display_name": ".chat-memory",
   "language": "python",
   "name": "python3"
  },
  "language_info": {
   "codemirror_mode": {
    "name": "ipython",
    "version": 3
   },
   "file_extension": ".py",
   "mimetype": "text/x-python",
   "name": "python",
   "nbconvert_exporter": "python",
   "pygments_lexer": "ipython3",
   "version": "3.12.3"
  }
 },
 "nbformat": 4,
 "nbformat_minor": 5
}
