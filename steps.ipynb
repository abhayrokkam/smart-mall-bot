{
 "cells": [
  {
   "cell_type": "code",
   "execution_count": null,
   "id": "8a057ca7",
   "metadata": {},
   "outputs": [],
   "source": [
    "import json\n",
    "\n",
    "import pandas as pd\n",
    "from modules.utils import cleaning_json_files"
   ]
  },
  {
   "cell_type": "code",
   "execution_count": null,
   "id": "89d7b55e",
   "metadata": {},
   "outputs": [],
   "source": [
    "# Cleaning json files\n",
    "data_folder = \"./data/extracted/\"\n",
    "\n",
    "shops = cleaning_json_files(data_folder=data_folder)\n",
    "\n",
    "with open('./data/shops.json', 'w') as json_file:\n",
    "    json.dump(shops, json_file, indent=4)"
   ]
  },
  {
   "cell_type": "code",
   "execution_count": 6,
   "id": "ab82be2e",
   "metadata": {},
   "outputs": [
    {
     "data": {
      "text/html": [
       "<div>\n",
       "<style scoped>\n",
       "    .dataframe tbody tr th:only-of-type {\n",
       "        vertical-align: middle;\n",
       "    }\n",
       "\n",
       "    .dataframe tbody tr th {\n",
       "        vertical-align: top;\n",
       "    }\n",
       "\n",
       "    .dataframe thead th {\n",
       "        text-align: right;\n",
       "    }\n",
       "</style>\n",
       "<table border=\"1\" class=\"dataframe\">\n",
       "  <thead>\n",
       "    <tr style=\"text-align: right;\">\n",
       "      <th></th>\n",
       "      <th>title</th>\n",
       "      <th>categories</th>\n",
       "      <th>subcategories</th>\n",
       "      <th>venue</th>\n",
       "      <th>keywords</th>\n",
       "      <th>description</th>\n",
       "    </tr>\n",
       "  </thead>\n",
       "  <tbody>\n",
       "    <tr>\n",
       "      <th>0</th>\n",
       "      <td>GODIVA</td>\n",
       "      <td>[Food &amp; Beverages]</td>\n",
       "      <td>[Desserts]</td>\n",
       "      <td>GF.Ice Rink Railing</td>\n",
       "      <td>[beverages, chocoholic, chocolatelover, desser...</td>\n",
       "      <td>GODIVA is the world’s most iconic premium choc...</td>\n",
       "    </tr>\n",
       "    <tr>\n",
       "      <th>1</th>\n",
       "      <td>GORDON RAMSAY BAR &amp; GRILL</td>\n",
       "      <td>[Food &amp; Beverages]</td>\n",
       "      <td>[Western]</td>\n",
       "      <td>Lobby Level, Sunway Resort</td>\n",
       "      <td>[bar, beef wellington, beverages, british, cla...</td>\n",
       "      <td>Gordon Ramsay Bar &amp; Grill in Sunway City Kuala...</td>\n",
       "    </tr>\n",
       "    <tr>\n",
       "      <th>2</th>\n",
       "      <td>GRAND IMPERIAL RESTAURANT</td>\n",
       "      <td>[Food &amp; Beverages]</td>\n",
       "      <td>[Chinese]</td>\n",
       "      <td>Suite 101, First Floor, The Pinnacle Annex</td>\n",
       "      <td>[beverages, chinese restaurant, food &amp; beverag...</td>\n",
       "      <td>Established since 2008, we are Malaysia’s lead...</td>\n",
       "    </tr>\n",
       "    <tr>\n",
       "      <th>3</th>\n",
       "      <td>Gadget Hub</td>\n",
       "      <td>[Digital Lifestyle]</td>\n",
       "      <td>[Add-Ons, Gadgets]</td>\n",
       "      <td>F1.705-2.PushCart</td>\n",
       "      <td>[add-ons, digital lifestyle, gadget hub, gadge...</td>\n",
       "      <td></td>\n",
       "    </tr>\n",
       "    <tr>\n",
       "      <th>4</th>\n",
       "      <td>GadgetHub</td>\n",
       "      <td>[Digital Lifestyle]</td>\n",
       "      <td>[]</td>\n",
       "      <td>F1.28</td>\n",
       "      <td>[bag, beauty light, cable, car grab, casing, c...</td>\n",
       "      <td>GadgetHub has always been a pioneer and at the...</td>\n",
       "    </tr>\n",
       "  </tbody>\n",
       "</table>\n",
       "</div>"
      ],
      "text/plain": [
       "                       title           categories       subcategories  \\\n",
       "0                     GODIVA   [Food & Beverages]          [Desserts]   \n",
       "1  GORDON RAMSAY BAR & GRILL   [Food & Beverages]           [Western]   \n",
       "2  GRAND IMPERIAL RESTAURANT   [Food & Beverages]           [Chinese]   \n",
       "3                 Gadget Hub  [Digital Lifestyle]  [Add-Ons, Gadgets]   \n",
       "4                  GadgetHub  [Digital Lifestyle]                  []   \n",
       "\n",
       "                                        venue  \\\n",
       "0                         GF.Ice Rink Railing   \n",
       "1                  Lobby Level, Sunway Resort   \n",
       "2  Suite 101, First Floor, The Pinnacle Annex   \n",
       "3                           F1.705-2.PushCart   \n",
       "4                                       F1.28   \n",
       "\n",
       "                                            keywords  \\\n",
       "0  [beverages, chocoholic, chocolatelover, desser...   \n",
       "1  [bar, beef wellington, beverages, british, cla...   \n",
       "2  [beverages, chinese restaurant, food & beverag...   \n",
       "3  [add-ons, digital lifestyle, gadget hub, gadge...   \n",
       "4  [bag, beauty light, cable, car grab, casing, c...   \n",
       "\n",
       "                                         description  \n",
       "0  GODIVA is the world’s most iconic premium choc...  \n",
       "1  Gordon Ramsay Bar & Grill in Sunway City Kuala...  \n",
       "2  Established since 2008, we are Malaysia’s lead...  \n",
       "3                                                     \n",
       "4  GadgetHub has always been a pioneer and at the...  "
      ]
     },
     "execution_count": 6,
     "metadata": {},
     "output_type": "execute_result"
    }
   ],
   "source": [
    "df = pd.read_json('./data/shops.json')\n",
    "df.head(5)"
   ]
  }
 ],
 "metadata": {
  "kernelspec": {
   "display_name": ".chat-memory",
   "language": "python",
   "name": "python3"
  },
  "language_info": {
   "codemirror_mode": {
    "name": "ipython",
    "version": 3
   },
   "file_extension": ".py",
   "mimetype": "text/x-python",
   "name": "python",
   "nbconvert_exporter": "python",
   "pygments_lexer": "ipython3",
   "version": "3.12.3"
  }
 },
 "nbformat": 4,
 "nbformat_minor": 5
}
