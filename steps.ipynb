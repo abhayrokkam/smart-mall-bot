{
 "cells": [
  {
   "cell_type": "markdown",
   "id": "2828074d",
   "metadata": {},
   "source": [
    "### Cleaning JSON Files"
   ]
  },
  {
   "cell_type": "code",
   "execution_count": null,
   "id": "8a057ca7",
   "metadata": {},
   "outputs": [],
   "source": [
    "import json\n",
    "\n",
    "import pandas as pd\n",
    "from modules.utils import cleaning_json_files"
   ]
  },
  {
   "cell_type": "code",
   "execution_count": null,
   "id": "89d7b55e",
   "metadata": {},
   "outputs": [],
   "source": [
    "data_folder = \"./data/extracted/\"\n",
    "\n",
    "shops = cleaning_json_files(data_folder=data_folder)\n",
    "\n",
    "with open('./data/shops.json', 'w') as json_file:\n",
    "    json.dump(shops, json_file, indent=4)"
   ]
  },
  {
   "cell_type": "code",
   "execution_count": null,
   "id": "ab82be2e",
   "metadata": {},
   "outputs": [],
   "source": [
    "df = pd.read_json('./data/shops.json')\n",
    "df.head(5)"
   ]
  },
  {
   "cell_type": "markdown",
   "id": "23dfefb9",
   "metadata": {},
   "source": [
    "### Vector Embeddings"
   ]
  },
  {
   "cell_type": "code",
   "execution_count": null,
   "id": "462a12de",
   "metadata": {},
   "outputs": [],
   "source": [
    "from modules.utils import push_to_chroma\n",
    "\n",
    "push_to_chroma(data_path='./data/shops.json')"
   ]
  },
  {
   "cell_type": "code",
   "execution_count": null,
   "id": "5a94dc31",
   "metadata": {},
   "outputs": [],
   "source": [
    "from modules.tools import find_similar_shops\n",
    "\n",
    "shops = find_similar_shops('can you show me halal chinese food places')\n",
    "\n",
    "for shop in shops:\n",
    "    print(shop)\n",
    "    print()"
   ]
  },
  {
   "cell_type": "markdown",
   "id": "9a2097b4",
   "metadata": {},
   "source": [
    "### LLM"
   ]
  },
  {
   "cell_type": "code",
   "execution_count": null,
   "id": "0accd043",
   "metadata": {},
   "outputs": [],
   "source": [
    "from modules.engine import MallAssistant\n",
    "\n",
    "assistant = MallAssistant()"
   ]
  },
  {
   "cell_type": "code",
   "execution_count": null,
   "id": "fb680d67",
   "metadata": {},
   "outputs": [],
   "source": [
    "user_query = \"tell me about halal chinese stores\"\n",
    "response = assistant.get_response(user_query)\n",
    "\n",
    "print(response)"
   ]
  },
  {
   "cell_type": "markdown",
   "id": "07e1dad3",
   "metadata": {},
   "source": [
    "### Feature 1: Chat History"
   ]
  },
  {
   "cell_type": "code",
   "execution_count": null,
   "id": "dc7ea383",
   "metadata": {},
   "outputs": [],
   "source": [
    "from modules.engine import MallAssistant\n",
    "\n",
    "assistant = MallAssistant()"
   ]
  },
  {
   "cell_type": "code",
   "execution_count": null,
   "id": "188f855b",
   "metadata": {},
   "outputs": [],
   "source": [
    "config = {\"thread_id\": \"tester_thread\"}\n",
    "\n",
    "user_query = \"tell me more about dolly dim sum\"\n",
    "result = assistant.process_user_query(user_query, config=config)\n",
    "\n",
    "print(result['response'])\n",
    "print()\n",
    "print(result['history'])"
   ]
  },
  {
   "cell_type": "markdown",
   "id": "f8cbb14d",
   "metadata": {},
   "source": [
    "### Feature 2: Re-Ranking"
   ]
  },
  {
   "cell_type": "code",
   "execution_count": null,
   "id": "72c32a21",
   "metadata": {},
   "outputs": [],
   "source": [
    "from modules.engine import MallAssistant\n",
    "\n",
    "assistant = MallAssistant()"
   ]
  },
  {
   "cell_type": "code",
   "execution_count": null,
   "id": "f6a8bacf",
   "metadata": {},
   "outputs": [],
   "source": [
    "config = {\"thread_id\": \"tester_thread\"}\n",
    "\n",
    "user_query = \"halal chinese food\"\n",
    "result = assistant.process_user_query(user_query, config=config)\n",
    "\n",
    "print(result['response'])\n",
    "print()\n",
    "print(result['history'])"
   ]
  },
  {
   "cell_type": "markdown",
   "id": "647226f4",
   "metadata": {},
   "source": [
    "### Feature 3: Ingest History to Prompt"
   ]
  },
  {
   "cell_type": "code",
   "execution_count": null,
   "id": "bbe1aed1",
   "metadata": {},
   "outputs": [],
   "source": [
    "from modules.engine import MallAssistant\n",
    "\n",
    "assistant = MallAssistant()"
   ]
  },
  {
   "cell_type": "code",
   "execution_count": null,
   "id": "755f3648",
   "metadata": {},
   "outputs": [],
   "source": [
    "config = {\"thread_id\": \"tester_thread\"}\n",
    "\n",
    "user_query = \"where is the second one\"\n",
    "result = assistant.process_user_query(user_query, config=config)\n",
    "\n",
    "print(result['response'])"
   ]
  }
 ],
 "metadata": {
  "kernelspec": {
   "display_name": ".lang_venv",
   "language": "python",
   "name": "python3"
  },
  "language_info": {
   "codemirror_mode": {
    "name": "ipython",
    "version": 3
   },
   "file_extension": ".py",
   "mimetype": "text/x-python",
   "name": "python",
   "nbconvert_exporter": "python",
   "pygments_lexer": "ipython3",
   "version": "3.12.3"
  }
 },
 "nbformat": 4,
 "nbformat_minor": 5
}
