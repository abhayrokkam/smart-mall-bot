{
 "cells": [
  {
   "cell_type": "code",
   "execution_count": null,
   "id": "8a057ca7",
   "metadata": {},
   "outputs": [],
   "source": [
    "import json\n",
    "\n",
    "import pandas as pd\n",
    "from modules.utils import cleaning_json_files"
   ]
  },
  {
   "cell_type": "markdown",
   "id": "2828074d",
   "metadata": {},
   "source": [
    "### Cleaning JSON Files"
   ]
  },
  {
   "cell_type": "code",
   "execution_count": null,
   "id": "89d7b55e",
   "metadata": {},
   "outputs": [],
   "source": [
    "data_folder = \"./data/extracted/\"\n",
    "\n",
    "shops = cleaning_json_files(data_folder=data_folder)\n",
    "\n",
    "with open('./data/shops.json', 'w') as json_file:\n",
    "    json.dump(shops, json_file, indent=4)"
   ]
  },
  {
   "cell_type": "code",
   "execution_count": null,
   "id": "ab82be2e",
   "metadata": {},
   "outputs": [],
   "source": [
    "df = pd.read_json('./data/shops.json')\n",
    "df.head(5)"
   ]
  },
  {
   "cell_type": "markdown",
   "id": "23dfefb9",
   "metadata": {},
   "source": [
    "### Vector Embeddings"
   ]
  },
  {
   "cell_type": "code",
   "execution_count": null,
   "id": "462a12de",
   "metadata": {},
   "outputs": [],
   "source": [
    "from modules.utils import push_to_chroma\n",
    "\n",
    "push_to_chroma(data_path='./data/shops.json')"
   ]
  },
  {
   "cell_type": "code",
   "execution_count": null,
   "id": "5a94dc31",
   "metadata": {},
   "outputs": [],
   "source": [
    "from modules.tools import find_similar_shops\n",
    "\n",
    "shops = find_similar_shops('can you show me halal chinese food places')\n",
    "\n",
    "for shop in shops:\n",
    "    print(shop)\n",
    "    print()"
   ]
  },
  {
   "cell_type": "markdown",
   "id": "9a2097b4",
   "metadata": {},
   "source": [
    "### LLM"
   ]
  },
  {
   "cell_type": "code",
   "execution_count": null,
   "id": "cf067569",
   "metadata": {},
   "outputs": [],
   "source": [
    "from modules.engine import get_llm_response\n",
    "\n",
    "user_query = \"best halal japanese restaraunts\"\n",
    "response = get_llm_response(user_query)\n",
    "print(response)"
   ]
  }
 ],
 "metadata": {
  "kernelspec": {
   "display_name": ".chat-memory",
   "language": "python",
   "name": "python3"
  },
  "language_info": {
   "codemirror_mode": {
    "name": "ipython",
    "version": 3
   },
   "file_extension": ".py",
   "mimetype": "text/x-python",
   "name": "python",
   "nbconvert_exporter": "python",
   "pygments_lexer": "ipython3",
   "version": "3.12.3"
  }
 },
 "nbformat": 4,
 "nbformat_minor": 5
}
